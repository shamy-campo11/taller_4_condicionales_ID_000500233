{
  "nbformat": 4,
  "nbformat_minor": 0,
  "metadata": {
    "colab": {
      "provenance": [],
      "include_colab_link": true
    },
    "kernelspec": {
      "name": "python3",
      "display_name": "Python 3"
    },
    "language_info": {
      "name": "python"
    }
  },
  "cells": [
    {
      "cell_type": "markdown",
      "metadata": {
        "id": "view-in-github",
        "colab_type": "text"
      },
      "source": [
        "<a href=\"https://colab.research.google.com/github/shamy-campo11/taller_4_condicionales_ID_000500233/blob/main/taller.ipynb\" target=\"_parent\"><img src=\"https://colab.research.google.com/assets/colab-badge.svg\" alt=\"Open In Colab\"/></a>"
      ]
    },
    {
      "cell_type": "markdown",
      "source": [
        "## PROBLEMA 1\n",
        "Escribe un programa en Python que solicite al usuario ingresar una calificación numérica (de 0 a 5) y luego muestre un mensaje que diga si el estudiante aprobó o reprobó. Utiliza una estructura selectiva doble (if - else)"
      ],
      "metadata": {
        "id": "3NH9wAEWe1YD"
      }
    },
    {
      "cell_type": "code",
      "source": [
        "calificacion = float(input(\"ingrese un numero de calificacion:\"))\n",
        "\n",
        "if calificacion <3:\n",
        "    print(\"reprobado\")\n",
        "\n",
        "else:\n",
        "    print(\"aprobado\")"
      ],
      "metadata": {
        "colab": {
          "base_uri": "https://localhost:8080/"
        },
        "id": "W3o6xFsiezAM",
        "outputId": "82edd401-9010-4ff5-ee45-06a4fff2c7da"
      },
      "execution_count": null,
      "outputs": [
        {
          "output_type": "stream",
          "name": "stdout",
          "text": [
            "ingrese un numero de calificacion:4\n",
            "aprobado\n"
          ]
        }
      ]
    },
    {
      "cell_type": "markdown",
      "source": [
        "## PROBLEMA 2\n",
        "Verificar si un número es positivo, negativo o cero\n",
        "\n",
        "Escribe un programa en Python que solicite al usuario ingresar un número y luego determine e imprima si el número es positivo, negativo o cero utilizando estructuras selectivas doble (if - else)."
      ],
      "metadata": {
        "id": "qK4PMmX6kL4l"
      }
    },
    {
      "cell_type": "code",
      "source": [
        "numero = float(input(\"ingrese un numero:\"))\n",
        "\n",
        "if numero <0:\n",
        "     print(\"negativo\")\n",
        "\n",
        "if numero >0:\n",
        "    print(\"positivo\")\n",
        "\n",
        "\n",
        "if numero ==0:\n",
        "    print(\"igual a cero\")\n",
        "\n",
        "\n"
      ],
      "metadata": {
        "colab": {
          "base_uri": "https://localhost:8080/"
        },
        "id": "SwP2yFsAiDV2",
        "outputId": "a3ceb9cf-b4bb-480f-b869-c5e752738ae0"
      },
      "execution_count": null,
      "outputs": [
        {
          "output_type": "stream",
          "name": "stdout",
          "text": [
            "ingrese un numero:-8\n",
            "negativo\n"
          ]
        }
      ]
    },
    {
      "cell_type": "markdown",
      "source": [
        "## PROBLEMA 3\n",
        "Validación de contraseña\n",
        "\n",
        "Escribe un programa en Python que solicite al usuario ingresar una contraseña. Si la contraseña es \"python123\", el programa debe imprimir \"Contraseña válida\". De lo contrario, debe imprimir \"Contraseña incorrecta\". Utiliza una estructura selecDva doble (if - else)."
      ],
      "metadata": {
        "id": "IS8uyI5ln0xF"
      }
    },
    {
      "cell_type": "code",
      "source": [
        "contraseña = input(\"ingresar la contraseña:\")\n",
        "\n",
        "if contraseña == \"python123\":\n",
        "      print(\"contraseña valida\")\n",
        "\n",
        "else:\n",
        "    print(\"contraseña invalida\")"
      ],
      "metadata": {
        "colab": {
          "base_uri": "https://localhost:8080/"
        },
        "id": "CxweXKUhl-uX",
        "outputId": "21c214f3-755c-4641-da01-2f193687c24d"
      },
      "execution_count": null,
      "outputs": [
        {
          "output_type": "stream",
          "name": "stdout",
          "text": [
            "ingresar la contraseña:python123\n",
            "contraseña valida\n"
          ]
        }
      ]
    },
    {
      "cell_type": "markdown",
      "source": [
        "## PROBLEMA 4\n",
        "\n",
        "Determinar si un número es par o impar\n",
        "\n",
        "Escribe un programa en Python que solicite al usuario ingresar un número y determine e imprima si el número es par o impar utilizando una estructura selectiva doble (if - else)."
      ],
      "metadata": {
        "id": "GPGsY5UbpkyE"
      }
    },
    {
      "cell_type": "code",
      "source": [
        "numero = float(input(\"ingrese un numero:\"))\n",
        "\n",
        "if numero %2 == 0:\n",
        "   print(\"par\")\n",
        "\n",
        "else:\n",
        "  print(\"impar\")"
      ],
      "metadata": {
        "colab": {
          "base_uri": "https://localhost:8080/"
        },
        "id": "ZpFR0Ks0ouDk",
        "outputId": "77399fe2-f904-48f3-caf4-b210d665b5d4"
      },
      "execution_count": null,
      "outputs": [
        {
          "output_type": "stream",
          "name": "stdout",
          "text": [
            "ingrese un numero:10\n",
            "par\n"
          ]
        }
      ]
    },
    {
      "cell_type": "markdown",
      "source": [
        "## PROBLEMA 5\n",
        "\n",
        "Determinar el número mayor\n",
        "\n",
        "Escribe un programa en Python que solicite al usuario ingresar cinco números y luego determine e imprima cuál de los cinco números es mayor utilizando estructuras selectivas doble (if - else).\n"
      ],
      "metadata": {
        "id": "qvIra6v8rDwK"
      }
    },
    {
      "cell_type": "code",
      "source": [
        "numero1 =  float(input(\"ingrese el numero uno:\"))\n",
        "numero2 =  float(input(\"ingrese el numero dos:\"))\n",
        "numero3 =  float(input(\"ingrese el numero tres:\"))\n",
        "numero4 =  float(input(\"ingrese el numero cuatro:\"))\n",
        "numero5 =  float(input(\"ingrese el numero cinco:\"))\n",
        "\n",
        "if  numero1 >= numero2 and numero1 >= numero3 and numero1 >= numero4 and numero1:\n",
        "    mayor = numero1\n",
        "if numero2 >= numero1 and numero2 >= numero3 and numero2 >= numero4 and numero2:\n",
        "    mayor = numero2\n",
        "if numero3 >= numero1 and numero3 >= numero2 and numero3 >= numero4 and numero3:\n",
        "    mayor = numero3\n",
        "if numero4 >= numero1 and numero4 >= numero2 and numero4 >= numero3 and numero4:\n",
        "    mayor = numero4\n",
        "\n",
        "print(\"el numero mayor es\", mayor)\n"
      ],
      "metadata": {
        "colab": {
          "base_uri": "https://localhost:8080/"
        },
        "id": "SC9JZ1MKrAYD",
        "outputId": "63e8789f-d953-4261-d468-12089e704fa7"
      },
      "execution_count": 12,
      "outputs": [
        {
          "output_type": "stream",
          "name": "stdout",
          "text": [
            "ingrese el numero uno:12\n",
            "ingrese el numero dos:4\n",
            "ingrese el numero tres:2\n",
            "ingrese el numero cuatro:6\n",
            "ingrese el numero cinco:8\n",
            "el numero mayor es 12.0\n"
          ]
        }
      ]
    },
    {
      "cell_type": "markdown",
      "source": [
        "\n",
        "## PROBLEMA 6\n",
        "Categorizar edades\n",
        "\n",
        "Escribe un programa en Python que solicite al usuario ingresar una edad y determine e imprima en qué categoría se encuentra la persona: \"Niño\" (0-12 años), \"Adolescente\" (13-19 años), \"Adulto\"(20-64 años) o \"Adulto Mayor\" (65 o más años)."
      ],
      "metadata": {
        "id": "6_Dq8GKgs5mz"
      }
    },
    {
      "cell_type": "code",
      "source": [
        "edad = float(input(\"ingrese la edad:\"))\n",
        "\n",
        "\n",
        "if edad >=0 and edad <=12:\n",
        "    print(\"niño\")\n",
        "\n",
        "if edad >= 13 and edad <=19:\n",
        "    print(\"adolescente\")\n",
        "\n",
        "if edad >= 20 and edad <=64:\n",
        "    print(\"adulto\")\n",
        "if edad >= 65:\n",
        "    print(\"adulto mayor\")\n",
        ""
      ],
      "metadata": {
        "id": "MGf1dkUdsdQ1",
        "outputId": "2cb7e29e-a04c-4b97-97aa-c28b9fabe98f",
        "colab": {
          "base_uri": "https://localhost:8080/"
        }
      },
      "execution_count": 10,
      "outputs": [
        {
          "output_type": "stream",
          "name": "stdout",
          "text": [
            "ingrese la edad:45\n",
            "adulto\n"
          ]
        }
      ]
    },
    {
      "cell_type": "code",
      "source": [
        "\n"
      ],
      "metadata": {
        "id": "00I_aJQ3gwQx"
      },
      "execution_count": null,
      "outputs": []
    }
  ]
}